{
 "cells": [
  {
   "cell_type": "code",
   "execution_count": 1,
   "id": "6ff7ab3f",
   "metadata": {},
   "outputs": [],
   "source": [
    "import numpy as np"
   ]
  },
  {
   "cell_type": "code",
   "execution_count": 7,
   "id": "f3660c23",
   "metadata": {},
   "outputs": [],
   "source": [
    "data=np.genfromtxt(\"dsheet.csv\",delimiter=';',dtype=int)"
   ]
  },
  {
   "cell_type": "code",
   "execution_count": 9,
   "id": "01a2bf57",
   "metadata": {},
   "outputs": [
    {
     "data": {
      "text/plain": [
       "(133, 7)"
      ]
     },
     "execution_count": 9,
     "metadata": {},
     "output_type": "execute_result"
    }
   ],
   "source": [
    "data.shape"
   ]
  },
  {
   "cell_type": "code",
   "execution_count": 11,
   "id": "e5d77e28",
   "metadata": {},
   "outputs": [],
   "source": [
    "one_matrx=np.ones((133,7))"
   ]
  },
  {
   "cell_type": "code",
   "execution_count": 12,
   "id": "d1a75e97",
   "metadata": {},
   "outputs": [
    {
     "data": {
      "text/plain": [
       "(133, 7)"
      ]
     },
     "execution_count": 12,
     "metadata": {},
     "output_type": "execute_result"
    }
   ],
   "source": [
    "one_matrx.shape"
   ]
  },
  {
   "cell_type": "code",
   "execution_count": 13,
   "id": "dffee521",
   "metadata": {},
   "outputs": [
    {
     "data": {
      "text/plain": [
       "(7, 133)"
      ]
     },
     "execution_count": 13,
     "metadata": {},
     "output_type": "execute_result"
    }
   ],
   "source": [
    "one_matrx.transpose().shape"
   ]
  },
  {
   "cell_type": "code",
   "execution_count": 14,
   "id": "53111baa",
   "metadata": {},
   "outputs": [],
   "source": [
    "res=np.dot(data,one_matrx.transpose())"
   ]
  },
  {
   "cell_type": "code",
   "execution_count": 22,
   "id": "74531074",
   "metadata": {},
   "outputs": [],
   "source": [
    "res.dtype=int"
   ]
  },
  {
   "cell_type": "code",
   "execution_count": 26,
   "id": "a9ff7c6e",
   "metadata": {},
   "outputs": [
    {
     "data": {
      "text/plain": [
       "array([[         0, 1088251968,          0, ..., 1088251968,          0,\n",
       "        1088251968],\n",
       "       [         0, 1088084288,          0, ..., 1088084288,          0,\n",
       "        1088084288],\n",
       "       [         0, 1091321744,          0, ..., 1091321744,          0,\n",
       "        1091321744],\n",
       "       ...,\n",
       "       [         0, 1091000904,          0, ..., 1091000904,          0,\n",
       "        1091000904],\n",
       "       [         0, 1091695376,          0, ..., 1091695376,          0,\n",
       "        1091695376],\n",
       "       [         0, 1093000098,          0, ..., 1093000098,          0,\n",
       "        1093000098]])"
      ]
     },
     "execution_count": 26,
     "metadata": {},
     "output_type": "execute_result"
    }
   ],
   "source": [
    "res"
   ]
  },
  {
   "cell_type": "code",
   "execution_count": 27,
   "id": "6c6d905d",
   "metadata": {},
   "outputs": [],
   "source": [
    "np.savetxt('trans_data.csv',X=res,delimiter=';')"
   ]
  },
  {
   "cell_type": "code",
   "execution_count": null,
   "id": "b63184f2",
   "metadata": {},
   "outputs": [],
   "source": []
  }
 ],
 "metadata": {
  "kernelspec": {
   "display_name": "Python 3",
   "language": "python",
   "name": "python3"
  },
  "language_info": {
   "codemirror_mode": {
    "name": "ipython",
    "version": 3
   },
   "file_extension": ".py",
   "mimetype": "text/x-python",
   "name": "python",
   "nbconvert_exporter": "python",
   "pygments_lexer": "ipython3",
   "version": "3.8.8"
  }
 },
 "nbformat": 4,
 "nbformat_minor": 5
}
